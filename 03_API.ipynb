{
 "cells": [
  {
   "cell_type": "markdown",
   "metadata": {},
   "source": [
    "# Chapter 03 API Calls with R\n",
    "\n",
    "APIs (application programming interfaces) are hosted on web servers. When you type www.google.com in your browser's address bar, your computer is actually asking the www.google.com server for a webpage, which it then returns to your browser. APIs work much the same way, except instead of your web browser asking for a webpage, your program asks for data. This data is usually returned in JSON format. To retrieve data, we make a request to a webserver. The server then replies with our data. In R, we will use the `httr` and `jsonlite` packages to deal with this.\n",
    "\n",
    "### R Setup\n"
   ]
  },
  {
   "cell_type": "code",
   "execution_count": null,
   "metadata": {},
   "outputs": [],
   "source": [
    "install.packages(c(\"httr\", \"jsonlite\", \"tidyverse\"))\n",
    "library('httr')\n",
    "library('jsonlite')\n",
    "library('tidyverse')\n"
   ]
  },
  {
   "cell_type": "markdown",
   "metadata": {},
   "source": [
    "## Task example: Pull Covid data from  the The Global COVID-19 Trends and Impact Survey Open Data API\n",
    "\n",
    "Let's go to the Endpoint (https://gisumd.github.io/COVID-19-API-Documentation/) and find the options that are available.\n",
    "\n",
    "Variable that are available are for example country or dateranges.\n",
    "\n",
    "\n",
    "### Step 1. Build the URL query \n",
    "\n",
    "Let's build our first URL query by combining the base url with some criterion \n"
   ]
  },
  {
   "cell_type": "code",
   "execution_count": null,
   "metadata": {},
   "outputs": [],
   "source": [
    "# save the URL as a variable\n",
    "indicator = \"covid\"\n",
    "type = \"daily\"\n",
    "country = \"Germany\"\n",
    "region = \"all\"\n",
    "daterange = \"20210501-20210516\"\n",
    "\n",
    "path = paste0(\"https://covidmap.umd.edu/api/resources?indicator=\", indicator, \n",
    "                  \"&type=\", type, \"&country=\", country, \"&daterange=\", daterange)\n",
    "\n",
    "path\n"
   ]
  },
  {
   "cell_type": "markdown",
   "metadata": {},
   "source": [
    "### Step 2. Get the response\n",
    "\n",
    "Now let's get the response using the URL defined above, using the `httr` library.\n"
   ]
  },
  {
   "cell_type": "code",
   "execution_count": null,
   "metadata": {},
   "outputs": [],
   "source": [
    "request = GET(url = path)\n",
    "\n"
   ]
  },
  {
   "cell_type": "markdown",
   "metadata": {},
   "source": [
    "### Step 3. Check the Response Code\n",
    "\n",
    "Before you can do anything with a website or URL in Python, it’s a good idea to check the current status code of said portal.\n",
    "\n",
    "\n",
    "`200` - the query parameters are all valid; the results will be in the body of the response\n",
    "\n",
    "`400` - the query parameters are not valid, typically either because they are not in valid JSON format, or a specified field or value is not valid; the “status reason” in the header will contain the error message\n",
    "\n",
    "\n",
    "Now, let us check the status of our response.\n"
   ]
  },
  {
   "cell_type": "code",
   "execution_count": null,
   "metadata": {},
   "outputs": [],
   "source": [
    "request$status_code  # should be 200\n",
    "\n"
   ]
  },
  {
   "cell_type": "markdown",
   "metadata": {},
   "source": [
    "The status code is 200, which suggests valid query parameters. The results can be shown normally.\n",
    "\n",
    "In the next steps, we are ready to get the content from the corresponding url,\n",
    "\n",
    "### Step 4. Get the Content\n",
    "After a web server returns a response, you can collect the content you need by converting it into a JSON format.\n",
    "\n",
    "JSON is a way to encode data structures like lists and dictionaries to strings that ensures that they are easily readable by machines. JSON is the primary format in which data is passed back and forth to APIs, and most API servers will send their responses in JSON format using the `jsonlite` package.\n"
   ]
  },
  {
   "cell_type": "code",
   "execution_count": null,
   "metadata": {},
   "outputs": [],
   "source": [
    "response = content(request, as = \"text\", encoding = \"UTF-8\")\n",
    "head(response) # view json\n"
   ]
  },
  {
   "cell_type": "markdown",
   "metadata": {},
   "source": [
    "### Step 5. Convert JSON to a normal R dataframe\n",
    "\n"
   ]
  },
  {
   "cell_type": "code",
   "execution_count": null,
   "metadata": {},
   "outputs": [],
   "source": [
    "df_survey <- fromJSON(response, flatten = TRUE) %>% data.frame()\n",
    "head(df_survey, n = 10)  # check the dataframe\n"
   ]
  },
  {
   "cell_type": "markdown",
   "metadata": {},
   "source": [
    "Descriptive stats based on the retrieved data.\n",
    "\n"
   ]
  },
  {
   "cell_type": "code",
   "execution_count": null,
   "metadata": {},
   "outputs": [],
   "source": [
    "summary(df_survey)\n",
    "\n"
   ]
  }
 ],
 "metadata": {
  "anaconda-cloud": "",
  "kernelspec": {
   "display_name": "R",
   "language": "R",
   "name": "ir"
  }
 },
 "nbformat": 4,
 "nbformat_minor": 1
}
